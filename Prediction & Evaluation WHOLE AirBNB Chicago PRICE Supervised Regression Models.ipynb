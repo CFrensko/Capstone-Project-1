{
 "cells": [
  {
   "cell_type": "markdown",
   "metadata": {},
   "source": [
    "# Capstone Project 1: Supervised Regression Models"
   ]
  },
  {
   "cell_type": "code",
   "execution_count": 1,
   "metadata": {},
   "outputs": [
    {
     "name": "stderr",
     "output_type": "stream",
     "text": [
      "/Users/carolinerosefrensko/anaconda3/lib/python3.6/site-packages/statsmodels/compat/pandas.py:56: FutureWarning: The pandas.core.datetools module is deprecated and will be removed in a future version. Please use the pandas.tseries module instead.\n",
      "  from pandas.core import datetools\n"
     ]
    }
   ],
   "source": [
    "# Import libraries:\n",
    "import pandas as pd #for building pandas dataframes for analysis\n",
    "import numpy as np #fundamental package for scientific computing with Python\n",
    "\n",
    "# Plotting/Visualizations:\n",
    "import seaborn as sns\n",
    "import matplotlib.pyplot as plt\n",
    "import pylab as P\n",
    "\n",
    "# Classical Stats Modeling:\n",
    "import statsmodels.api as sm #provides estimation of many different statistical models, tests and data exploration \n",
    "import scipy.stats as stats #large number of probability distributions and statistical functions\n",
    "\n",
    "# Supervised Learning:\n",
    "from sklearn.model_selection import train_test_split\n",
    "from sklearn.linear_model import LinearRegression\n",
    "from sklearn.metrics import r2_score\n",
    "\n",
    "from sklearn.metrics import mean_squared_error\n",
    "from sklearn.metrics import mean_absolute_error\n",
    "from sklearn.metrics import make_scorer, accuracy_score, precision_score, recall_score, f1_score\n",
    "from sklearn import datasets\n",
    "\n",
    "from sklearn import metrics\n",
    "from sklearn import preprocessing\n",
    "from sklearn import linear_model\n",
    "from sklearn.linear_model import LinearRegression, SGDRegressor\n",
    "from sklearn.linear_model import Lasso\n",
    "from sklearn.linear_model import ElasticNet\n",
    "from sklearn import neighbors\n",
    "from sklearn.neighbors import KNeighborsRegressor\n",
    "from sklearn import tree \n",
    "from sklearn.tree import DecisionTreeRegressor\n",
    "from sklearn import ensemble\n",
    "from sklearn.ensemble import RandomForestRegressor\n",
    "from sklearn.ensemble import GradientBoostingRegressor\n",
    "from sklearn import neural_network\n",
    "from sklearn.neural_network import MLPRegressor\n",
    "\n",
    "\n"
   ]
  },
  {
   "cell_type": "code",
   "execution_count": 2,
   "metadata": {},
   "outputs": [
    {
     "data": {
      "text/html": [
       "<div>\n",
       "<style>\n",
       "    .dataframe thead tr:only-child th {\n",
       "        text-align: right;\n",
       "    }\n",
       "\n",
       "    .dataframe thead th {\n",
       "        text-align: left;\n",
       "    }\n",
       "\n",
       "    .dataframe tbody tr th {\n",
       "        vertical-align: top;\n",
       "    }\n",
       "</style>\n",
       "<table border=\"1\" class=\"dataframe\">\n",
       "  <thead>\n",
       "    <tr style=\"text-align: right;\">\n",
       "      <th></th>\n",
       "      <th>bedrooms</th>\n",
       "      <th>minstay</th>\n",
       "      <th>overall_satisfaction</th>\n",
       "      <th>price</th>\n",
       "      <th>reviews</th>\n",
       "      <th>City_Chicago</th>\n",
       "      <th>room_type_Entire home/apt</th>\n",
       "      <th>room_type_Private room</th>\n",
       "      <th>room_type_Shared room</th>\n",
       "      <th>neighborhood_Albany Park</th>\n",
       "      <th>...</th>\n",
       "      <th>neighborhood_West Pullman</th>\n",
       "      <th>neighborhood_West Rogers Park</th>\n",
       "      <th>neighborhood_West Town</th>\n",
       "      <th>neighborhood_West Woodlawn</th>\n",
       "      <th>neighborhood_Wicker Park</th>\n",
       "      <th>neighborhood_Wildwood</th>\n",
       "      <th>neighborhood_Woodlawn</th>\n",
       "      <th>neighborhood_Wrightwood</th>\n",
       "      <th>neighborhood_Wrightwood Neighbors</th>\n",
       "      <th>neighborhood_Wrigleyville</th>\n",
       "    </tr>\n",
       "  </thead>\n",
       "  <tbody>\n",
       "    <tr>\n",
       "      <th>0</th>\n",
       "      <td>3.0</td>\n",
       "      <td>2.0</td>\n",
       "      <td>5.0</td>\n",
       "      <td>98.0</td>\n",
       "      <td>186</td>\n",
       "      <td>1</td>\n",
       "      <td>1</td>\n",
       "      <td>0</td>\n",
       "      <td>0</td>\n",
       "      <td>0</td>\n",
       "      <td>...</td>\n",
       "      <td>0</td>\n",
       "      <td>0</td>\n",
       "      <td>0</td>\n",
       "      <td>0</td>\n",
       "      <td>0</td>\n",
       "      <td>0</td>\n",
       "      <td>0</td>\n",
       "      <td>0</td>\n",
       "      <td>0</td>\n",
       "      <td>0</td>\n",
       "    </tr>\n",
       "    <tr>\n",
       "      <th>1</th>\n",
       "      <td>4.0</td>\n",
       "      <td>4.0</td>\n",
       "      <td>4.5</td>\n",
       "      <td>296.0</td>\n",
       "      <td>46</td>\n",
       "      <td>1</td>\n",
       "      <td>1</td>\n",
       "      <td>0</td>\n",
       "      <td>0</td>\n",
       "      <td>0</td>\n",
       "      <td>...</td>\n",
       "      <td>0</td>\n",
       "      <td>0</td>\n",
       "      <td>0</td>\n",
       "      <td>0</td>\n",
       "      <td>0</td>\n",
       "      <td>0</td>\n",
       "      <td>0</td>\n",
       "      <td>0</td>\n",
       "      <td>1</td>\n",
       "      <td>0</td>\n",
       "    </tr>\n",
       "    <tr>\n",
       "      <th>2</th>\n",
       "      <td>1.0</td>\n",
       "      <td>3.0</td>\n",
       "      <td>5.0</td>\n",
       "      <td>108.0</td>\n",
       "      <td>50</td>\n",
       "      <td>1</td>\n",
       "      <td>1</td>\n",
       "      <td>0</td>\n",
       "      <td>0</td>\n",
       "      <td>0</td>\n",
       "      <td>...</td>\n",
       "      <td>0</td>\n",
       "      <td>0</td>\n",
       "      <td>0</td>\n",
       "      <td>0</td>\n",
       "      <td>0</td>\n",
       "      <td>0</td>\n",
       "      <td>0</td>\n",
       "      <td>0</td>\n",
       "      <td>0</td>\n",
       "      <td>0</td>\n",
       "    </tr>\n",
       "    <tr>\n",
       "      <th>3</th>\n",
       "      <td>1.0</td>\n",
       "      <td>4.0</td>\n",
       "      <td>4.5</td>\n",
       "      <td>217.0</td>\n",
       "      <td>9</td>\n",
       "      <td>1</td>\n",
       "      <td>1</td>\n",
       "      <td>0</td>\n",
       "      <td>0</td>\n",
       "      <td>0</td>\n",
       "      <td>...</td>\n",
       "      <td>0</td>\n",
       "      <td>0</td>\n",
       "      <td>0</td>\n",
       "      <td>0</td>\n",
       "      <td>0</td>\n",
       "      <td>0</td>\n",
       "      <td>0</td>\n",
       "      <td>0</td>\n",
       "      <td>0</td>\n",
       "      <td>0</td>\n",
       "    </tr>\n",
       "    <tr>\n",
       "      <th>4</th>\n",
       "      <td>3.0</td>\n",
       "      <td>1.0</td>\n",
       "      <td>4.5</td>\n",
       "      <td>433.0</td>\n",
       "      <td>34</td>\n",
       "      <td>1</td>\n",
       "      <td>1</td>\n",
       "      <td>0</td>\n",
       "      <td>0</td>\n",
       "      <td>0</td>\n",
       "      <td>...</td>\n",
       "      <td>0</td>\n",
       "      <td>0</td>\n",
       "      <td>0</td>\n",
       "      <td>0</td>\n",
       "      <td>0</td>\n",
       "      <td>0</td>\n",
       "      <td>0</td>\n",
       "      <td>0</td>\n",
       "      <td>0</td>\n",
       "      <td>1</td>\n",
       "    </tr>\n",
       "  </tbody>\n",
       "</table>\n",
       "<p>5 rows × 198 columns</p>\n",
       "</div>"
      ],
      "text/plain": [
       "   bedrooms  minstay  overall_satisfaction  price  reviews  City_Chicago  \\\n",
       "0       3.0      2.0                   5.0   98.0      186             1   \n",
       "1       4.0      4.0                   4.5  296.0       46             1   \n",
       "2       1.0      3.0                   5.0  108.0       50             1   \n",
       "3       1.0      4.0                   4.5  217.0        9             1   \n",
       "4       3.0      1.0                   4.5  433.0       34             1   \n",
       "\n",
       "   room_type_Entire home/apt  room_type_Private room  room_type_Shared room  \\\n",
       "0                          1                       0                      0   \n",
       "1                          1                       0                      0   \n",
       "2                          1                       0                      0   \n",
       "3                          1                       0                      0   \n",
       "4                          1                       0                      0   \n",
       "\n",
       "   neighborhood_Albany Park            ...              \\\n",
       "0                         0            ...               \n",
       "1                         0            ...               \n",
       "2                         0            ...               \n",
       "3                         0            ...               \n",
       "4                         0            ...               \n",
       "\n",
       "   neighborhood_West Pullman  neighborhood_West Rogers Park  \\\n",
       "0                          0                              0   \n",
       "1                          0                              0   \n",
       "2                          0                              0   \n",
       "3                          0                              0   \n",
       "4                          0                              0   \n",
       "\n",
       "   neighborhood_West Town  neighborhood_West Woodlawn  \\\n",
       "0                       0                           0   \n",
       "1                       0                           0   \n",
       "2                       0                           0   \n",
       "3                       0                           0   \n",
       "4                       0                           0   \n",
       "\n",
       "   neighborhood_Wicker Park  neighborhood_Wildwood  neighborhood_Woodlawn  \\\n",
       "0                         0                      0                      0   \n",
       "1                         0                      0                      0   \n",
       "2                         0                      0                      0   \n",
       "3                         0                      0                      0   \n",
       "4                         0                      0                      0   \n",
       "\n",
       "   neighborhood_Wrightwood  neighborhood_Wrightwood Neighbors  \\\n",
       "0                        0                                  0   \n",
       "1                        0                                  1   \n",
       "2                        0                                  0   \n",
       "3                        0                                  0   \n",
       "4                        0                                  0   \n",
       "\n",
       "   neighborhood_Wrigleyville  \n",
       "0                          0  \n",
       "1                          0  \n",
       "2                          0  \n",
       "3                          0  \n",
       "4                          1  \n",
       "\n",
       "[5 rows x 198 columns]"
      ]
     },
     "execution_count": 2,
     "metadata": {},
     "output_type": "execute_result"
    }
   ],
   "source": [
    "#Cleaned Data w/o Accommodates\n",
    "filtered_result4 = pd.read_csv('/Users/carolinerosefrensko/Downloads/data_wrangling_json/AirBNB_cleaned_dataChicagoprice2018-07-11.csv')\n",
    "filtered_result4.head()"
   ]
  },
  {
   "cell_type": "code",
   "execution_count": 3,
   "metadata": {},
   "outputs": [
    {
     "name": "stdout",
     "output_type": "stream",
     "text": [
      "<class 'pandas.core.frame.DataFrame'>\n",
      "RangeIndex: 90223 entries, 0 to 90222\n",
      "Columns: 198 entries, bedrooms to neighborhood_Wrigleyville\n",
      "dtypes: float64(4), int64(194)\n",
      "memory usage: 136.3 MB\n"
     ]
    }
   ],
   "source": [
    "filtered_result4.info()"
   ]
  },
  {
   "cell_type": "markdown",
   "metadata": {},
   "source": [
    "#### Prepare Features"
   ]
  },
  {
   "cell_type": "code",
   "execution_count": 4,
   "metadata": {
    "collapsed": true
   },
   "outputs": [],
   "source": [
    "#Filtering out Price Column out of X\n",
    "X = filtered_result4.drop('price', axis = 1)\n",
    "\n",
    "#Overall_Satisfaction Column\n",
    "Y = filtered_result4.price\n",
    "\n",
    "# Standardize the data\n",
    "#Xscaled = scale(X)\n",
    "models = []\n",
    "\n",
    "\n",
    "#Train/Test Split\n",
    "X_train, X_test, y_train, y_test = train_test_split(X, Y, test_size=0.20, random_state= 42)"
   ]
  },
  {
   "cell_type": "markdown",
   "metadata": {},
   "source": [
    "#### Fit & Predict"
   ]
  },
  {
   "cell_type": "code",
   "execution_count": 5,
   "metadata": {
    "collapsed": true
   },
   "outputs": [],
   "source": [
    "def root_mean_squared_error(mean_squared_error, y_test, y_pred_test):\n",
    "    RMSE = np.sqrt(mean_squared_error(y_test, y_pred_test))\n",
    "    return RMSE"
   ]
  },
  {
   "cell_type": "code",
   "execution_count": 6,
   "metadata": {
    "collapsed": true
   },
   "outputs": [],
   "source": [
    "def forcast_bias(y_test, y_pred_test):\n",
    "    bias = np.mean(y_test - y_pred_test)\n",
    "    return bias"
   ]
  },
  {
   "cell_type": "code",
   "execution_count": 7,
   "metadata": {
    "collapsed": true
   },
   "outputs": [],
   "source": [
    "def get_performance_metrics(model_name, y_test, y_pred_test):\n",
    "    '''Build a dictionary of regression model performance metrics: R2, MSE, and MAE'''\n",
    "    metrics = {}\n",
    "    metrics = {'Model': model_name, 'R2': r2_score(y_test, y_pred_test), \n",
    "               'RMSE': root_mean_squared_error(mean_squared_error, y_test, y_pred_test),\n",
    "               'Bias': forcast_bias(y_pred_test, y_test)}\n",
    "    return (metrics)"
   ]
  },
  {
   "cell_type": "code",
   "execution_count": 8,
   "metadata": {
    "collapsed": true
   },
   "outputs": [],
   "source": [
    "linreg = get_performance_metrics('Linear Regression', y_test, LinearRegression(fit_intercept=True, copy_X=True)\n",
    "                                        .fit(X_train, y_train)\n",
    "                                        .predict(X_test))\n",
    "models.append(linreg)"
   ]
  },
  {
   "cell_type": "code",
   "execution_count": 9,
   "metadata": {
    "collapsed": true
   },
   "outputs": [],
   "source": [
    "knn = linreg = get_performance_metrics('KNN Regression', y_test, KNeighborsRegressor()\n",
    "                                        .fit(X_train, y_train)\n",
    "                                        .predict(X_test))\n",
    "models.append(knn)"
   ]
  },
  {
   "cell_type": "code",
   "execution_count": 10,
   "metadata": {
    "collapsed": true
   },
   "outputs": [],
   "source": [
    "dtr = get_performance_metrics('Decision Tree', y_test, DecisionTreeRegressor()\n",
    "                                        .fit(X_train, y_train)\n",
    "                                        .predict(X_test))\n",
    "models.append(dtr)"
   ]
  },
  {
   "cell_type": "code",
   "execution_count": 11,
   "metadata": {
    "collapsed": true
   },
   "outputs": [],
   "source": [
    "rfr = get_performance_metrics('Random Forest', y_test, RandomForestRegressor(random_state=42)\n",
    "                                        .fit(X_train, y_train)\n",
    "                                        .predict(X_test))\n",
    "models.append(rfr)"
   ]
  },
  {
   "cell_type": "code",
   "execution_count": 12,
   "metadata": {
    "collapsed": true
   },
   "outputs": [],
   "source": [
    "mlp = get_performance_metrics('Multi-Layer Perceptron', y_test, MLPRegressor(random_state=42)\n",
    "                                        .fit(X_train, y_train)\n",
    "                                        .predict(X_test))\n",
    "models.append(mlp)"
   ]
  },
  {
   "cell_type": "code",
   "execution_count": 13,
   "metadata": {
    "collapsed": true
   },
   "outputs": [],
   "source": [
    "lasso = get_performance_metrics('Lasso', y_test, Lasso(random_state=42)\n",
    "                                        .fit(X_train, y_train)\n",
    "                                        .predict(X_test))\n",
    "models.append(lasso)"
   ]
  },
  {
   "cell_type": "code",
   "execution_count": 14,
   "metadata": {
    "collapsed": true
   },
   "outputs": [],
   "source": [
    "gbr = get_performance_metrics('Gradient Boosting', y_test, GradientBoostingRegressor(random_state=42)\n",
    "                                        .fit(X_train, y_train)\n",
    "                                        .predict(X_test))\n",
    "models.append(gbr)"
   ]
  },
  {
   "cell_type": "code",
   "execution_count": 15,
   "metadata": {
    "collapsed": true
   },
   "outputs": [],
   "source": [
    "eln = get_performance_metrics('Elastic Net', y_test, ElasticNet(random_state=42)\n",
    "                                        .fit(X_train, y_train)\n",
    "                                        .predict(X_test))\n",
    "models.append(eln)"
   ]
  },
  {
   "cell_type": "code",
   "execution_count": 16,
   "metadata": {
    "collapsed": true
   },
   "outputs": [],
   "source": [
    "ridge = get_performance_metrics('Ridge Regression', y_test, linear_model.Ridge(random_state=42)\n",
    "                                        .fit(X_train, y_train)\n",
    "                                        .predict(X_test))\n",
    "models.append(ridge)"
   ]
  },
  {
   "cell_type": "code",
   "execution_count": 17,
   "metadata": {},
   "outputs": [
    {
     "data": {
      "text/html": [
       "<div>\n",
       "<style>\n",
       "    .dataframe thead tr:only-child th {\n",
       "        text-align: right;\n",
       "    }\n",
       "\n",
       "    .dataframe thead th {\n",
       "        text-align: left;\n",
       "    }\n",
       "\n",
       "    .dataframe tbody tr th {\n",
       "        vertical-align: top;\n",
       "    }\n",
       "</style>\n",
       "<table border=\"1\" class=\"dataframe\">\n",
       "  <thead>\n",
       "    <tr style=\"text-align: right;\">\n",
       "      <th></th>\n",
       "      <th>R2</th>\n",
       "      <th>RMSE</th>\n",
       "      <th>Bias</th>\n",
       "    </tr>\n",
       "    <tr>\n",
       "      <th>Model</th>\n",
       "      <th></th>\n",
       "      <th></th>\n",
       "      <th></th>\n",
       "    </tr>\n",
       "  </thead>\n",
       "  <tbody>\n",
       "    <tr>\n",
       "      <th>Random Forest</th>\n",
       "      <td>0.684434</td>\n",
       "      <td>42.049271</td>\n",
       "      <td>0.036840</td>\n",
       "    </tr>\n",
       "    <tr>\n",
       "      <th>Decision Tree</th>\n",
       "      <td>0.638756</td>\n",
       "      <td>44.989753</td>\n",
       "      <td>0.045266</td>\n",
       "    </tr>\n",
       "    <tr>\n",
       "      <th>KNN Regression</th>\n",
       "      <td>0.579455</td>\n",
       "      <td>48.542230</td>\n",
       "      <td>1.380083</td>\n",
       "    </tr>\n",
       "    <tr>\n",
       "      <th>Multi-Layer Perceptron</th>\n",
       "      <td>0.575138</td>\n",
       "      <td>48.790718</td>\n",
       "      <td>-2.931639</td>\n",
       "    </tr>\n",
       "    <tr>\n",
       "      <th>Linear Regression</th>\n",
       "      <td>0.528445</td>\n",
       "      <td>51.401924</td>\n",
       "      <td>-0.273309</td>\n",
       "    </tr>\n",
       "    <tr>\n",
       "      <th>Ridge Regression</th>\n",
       "      <td>0.528415</td>\n",
       "      <td>51.403553</td>\n",
       "      <td>-0.269730</td>\n",
       "    </tr>\n",
       "    <tr>\n",
       "      <th>Gradient Boosting</th>\n",
       "      <td>0.524181</td>\n",
       "      <td>51.633810</td>\n",
       "      <td>-0.201450</td>\n",
       "    </tr>\n",
       "    <tr>\n",
       "      <th>Lasso</th>\n",
       "      <td>0.417803</td>\n",
       "      <td>57.114744</td>\n",
       "      <td>-0.233618</td>\n",
       "    </tr>\n",
       "    <tr>\n",
       "      <th>Elastic Net</th>\n",
       "      <td>0.326028</td>\n",
       "      <td>61.451768</td>\n",
       "      <td>-0.423048</td>\n",
       "    </tr>\n",
       "  </tbody>\n",
       "</table>\n",
       "</div>"
      ],
      "text/plain": [
       "                              R2       RMSE      Bias\n",
       "Model                                                \n",
       "Random Forest           0.684434  42.049271  0.036840\n",
       "Decision Tree           0.638756  44.989753  0.045266\n",
       "KNN Regression          0.579455  48.542230  1.380083\n",
       "Multi-Layer Perceptron  0.575138  48.790718 -2.931639\n",
       "Linear Regression       0.528445  51.401924 -0.273309\n",
       "Ridge Regression        0.528415  51.403553 -0.269730\n",
       "Gradient Boosting       0.524181  51.633810 -0.201450\n",
       "Lasso                   0.417803  57.114744 -0.233618\n",
       "Elastic Net             0.326028  61.451768 -0.423048"
      ]
     },
     "execution_count": 17,
     "metadata": {},
     "output_type": "execute_result"
    }
   ],
   "source": [
    "#Test Set Values\n",
    "df_models = pd.DataFrame(models).set_index('Model')\n",
    "df_models = df_models[['R2', 'RMSE', 'Bias']]\n",
    "df_models.sort_values('R2', ascending=False)\n",
    "\n",
    "# R$^2$ Score (coefficient of determination):  best possible score is 1.0, highest value is best.\n",
    "# MSE & RMSE:  lowest value is best."
   ]
  },
  {
   "cell_type": "code",
   "execution_count": 19,
   "metadata": {},
   "outputs": [
    {
     "name": "stderr",
     "output_type": "stream",
     "text": [
      "/Users/carolinerosefrensko/anaconda3/lib/python3.6/site-packages/sklearn/neural_network/multilayer_perceptron.py:564: ConvergenceWarning: Stochastic Optimizer: Maximum iterations (200) reached and the optimization hasn't converged yet.\n",
      "  % self.max_iter, ConvergenceWarning)\n"
     ]
    },
    {
     "data": {
      "image/png": "[encoded data removed]",
      "text/plain": [
       "<matplotlib.figure.Figure at 0x1c10c02400>"
      ]
     },
     "metadata": {},
     "output_type": "display_data"
    }
   ],
   "source": [
    "rs = 1\n",
    "ests = [ensemble.RandomForestRegressor(), tree.DecisionTreeRegressor(), neighbors.KNeighborsRegressor(),\n",
    "        neural_network.MLPRegressor(),\n",
    "        linear_model.LinearRegression(), ensemble.GradientBoostingRegressor(),\n",
    "        linear_model.Lasso(), linear_model.ElasticNet(), linear_model.Ridge()]\n",
    "ests_labels = np.array(['RandomF','DecisionT','KNN','MLP','Linear','Gradient','Lasso','ElasticNet','Ridge'])\n",
    "errvals = np.array([])\n",
    "\n",
    "X = filtered_result4.drop('price', axis = 1)\n",
    "Y = filtered_result4.price\n",
    "\n",
    "X_train, X_test, y_train, y_test = train_test_split(X, Y, test_size=0.2, random_state=20)\n",
    "\n",
    "for e in ests:\n",
    "    e.fit(X_train, y_train)\n",
    "    this_err = metrics.median_absolute_error(y_test, e.predict(X_test))\n",
    "    errvals = np.append(errvals, this_err)\n",
    "\n",
    "pos = np.arange(errvals.shape[0])\n",
    "srt = np.argsort(errvals)\n",
    "plt.figure(figsize=(7,5))\n",
    "plt.bar(pos, errvals[srt], align='center')\n",
    "plt.xticks(pos, ests_labels[srt])\n",
    "plt.title('Mean Absolute Error for Supervised Regression Models')\n",
    "plt.xlabel('Estimator')\n",
    "plt.ylabel('Median Absolute Error')\n",
    "plt.show()"
   ]
  },
  {
   "cell_type": "markdown",
   "metadata": {},
   "source": [
    "Looking at the mean absolute error for these eight estimators, the majority predict the price with an error of around 20-30 dollars. Decision Tree and Random Forest methods work the best with a predicted price error of only 10-15 dollars with the Decision Tree model performing marginally better."
   ]
  }
 ],
 "metadata": {
  "kernelspec": {
   "display_name": "Python 3",
   "language": "python",
   "name": "python3"
  },
  "language_info": {
   "codemirror_mode": {
    "name": "ipython",
    "version": 3
   },
   "file_extension": ".py",
   "mimetype": "text/x-python",
   "name": "python",
   "nbconvert_exporter": "python",
   "pygments_lexer": "ipython3",
   "version": "3.6.3"
  }
 },
 "nbformat": 4,
 "nbformat_minor": 2
}
